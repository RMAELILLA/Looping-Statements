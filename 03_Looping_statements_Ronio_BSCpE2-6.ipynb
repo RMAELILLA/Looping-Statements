{
 "cells": [
  {
   "cell_type": "markdown",
   "id": "8c3735e9-7903-4270-b677-0a8761139bc6",
   "metadata": {},
   "source": [
    "## Lab 2 Exercise 1\n",
    "#### Input an integer, determine and display 'prime' if the integer is prime else display 'not prime'."
   ]
  },
  {
   "cell_type": "code",
   "execution_count": 18,
   "id": "4549848b-cd93-4ac8-99bb-4c866df2a08e",
   "metadata": {},
   "outputs": [
    {
     "name": "stdin",
     "output_type": "stream",
     "text": [
      "Input a number:  5\n"
     ]
    },
    {
     "name": "stdout",
     "output_type": "stream",
     "text": [
      "The input :  5  is a prime number.\n"
     ]
    }
   ],
   "source": [
    "try:\n",
    "    num = int(input(\"Input a number: \"))\n",
    "except ValueError:\n",
    "    print(\"Invalid input. Please enter a valid integer.\")\n",
    "\n",
    "pnum = True # Assumes input as prime\n",
    "\n",
    "# Determine if the input is prime\n",
    "if num < 2:\n",
    "    pnum = False\n",
    "else:\n",
    "    for i in range(2, int(num//2)):\n",
    "        if num % i == 0:\n",
    "            pnum = False\n",
    "\n",
    "if pnum:\n",
    "    print(\"The input : \", num, \" is a prime number.\")\n",
    "else:\n",
    "    print(\"The input : \", num, \" is not a prime number.\")"
   ]
  },
  {
   "cell_type": "markdown",
   "id": "51d77a9d-ba99-4d51-9036-de746021059b",
   "metadata": {},
   "source": [
    "## Lab 2 Exercise 2\n",
    "#### compute for the cube of integers. "
   ]
  },
  {
   "cell_type": "code",
   "execution_count": 28,
   "id": "3eddb1ca-a22b-43f0-ba8c-42c4e440ddd0",
   "metadata": {},
   "outputs": [
    {
     "name": "stdin",
     "output_type": "stream",
     "text": [
      "Enter the size of the array:  3\n",
      "Enter the elements separated by space:  5 2 3\n"
     ]
    },
    {
     "name": "stdout",
     "output_type": "stream",
     "text": [
      "The Cubes of your input elements are:\n",
      "125\n",
      "8\n",
      "27\n"
     ]
    }
   ],
   "source": [
    "cube_num = int(input(\"Enter the size of the array: \")) # Step 1: Input the size of the array\n",
    "\n",
    "num = input(\"Enter the elements separated by space: \").split() # Step 2: Input the elements of the array\n",
    "\n",
    "if len(num) != cube_num:\n",
    "    print(\"The number of elements provided does not match the specified size of the array.\")\n",
    "else:\n",
    "    cubes = [int(i) ** 3 for i in num] # list\n",
    "    \n",
    "    print(\"The Cubes of your input elements are:\") # Step 3: Display the cube of each element\n",
    "    for cube in cubes:\n",
    "        print(cube)"
   ]
  },
  {
   "cell_type": "markdown",
   "id": "8e6dada2-2057-4607-b0c4-f4de59330cec",
   "metadata": {},
   "source": [
    "## Lab 2 Exercise 3\n",
    "#### Generate a hollow square based on the + integer input side length n."
   ]
  },
  {
   "cell_type": "code",
   "execution_count": 43,
   "id": "f4bd0497-91ad-4575-be6c-9bedc04bfcfc",
   "metadata": {},
   "outputs": [
    {
     "name": "stdout",
     "output_type": "stream",
     "text": [
      "This program displays a hollow square based on the side length 'n'.\n"
     ]
    },
    {
     "name": "stdin",
     "output_type": "stream",
     "text": [
      "Do you want to continue? y/n:  asda\n"
     ]
    },
    {
     "name": "stdout",
     "output_type": "stream",
     "text": [
      "Please choose 'y' for yes or 'n' for no.\n"
     ]
    },
    {
     "name": "stdin",
     "output_type": "stream",
     "text": [
      "Do you want to continue? y/n:  535\n"
     ]
    },
    {
     "name": "stdout",
     "output_type": "stream",
     "text": [
      "Please choose 'y' for yes or 'n' for no.\n"
     ]
    },
    {
     "name": "stdin",
     "output_type": "stream",
     "text": [
      "Do you want to continue? y/n:  y\n",
      "Please provide a side length:  7\n"
     ]
    },
    {
     "name": "stdout",
     "output_type": "stream",
     "text": [
      "*******\n",
      "*     *\n",
      "*     *\n",
      "*     *\n",
      "*     *\n",
      "*     *\n",
      "*******\n"
     ]
    },
    {
     "name": "stdin",
     "output_type": "stream",
     "text": [
      "Do you want to continue? y/n:  n\n"
     ]
    },
    {
     "name": "stdout",
     "output_type": "stream",
     "text": [
      "Thank you for running this program. Have a good day!\n"
     ]
    }
   ],
   "source": [
    "print(\"This program displays a hollow square based on the side length 'n'.\")\n",
    "\n",
    "def print_hollow_square(sqr_length):\n",
    "    if sqr_length < 1:\n",
    "        print(\"Please provide a positive integer.\")\n",
    "        return\n",
    "\n",
    "    for i in range(sqr_length):\n",
    "        if i == 0 or i == sqr_length - 1:\n",
    "            print('*' * sqr_length) # Print '*' in first and last rows\n",
    "        else:\n",
    "            print('*' + ' ' * (sqr_length - 2) + '*')  # Print a row '*' at beginning, end, in between\n",
    "\n",
    "while True:\n",
    "    user_d = input(\"Do you want to continue? y/n: \").lower()\n",
    "\n",
    "    if user_d == \"y\":\n",
    "        try:\n",
    "            sqr_length = int(input(\"Please provide a side length: \"))\n",
    "            print_hollow_square(sqr_length)\n",
    "        except ValueError:\n",
    "            print(\"Please enter a valid integer.\")\n",
    "            continue\n",
    "    elif user_d == \"n\":\n",
    "        print(\"Thank you for running this program. Have a good day!\")\n",
    "        break\n",
    "    else:\n",
    "        print(\"Please choose 'y' for yes or 'n' for no.\")\n",
    "        continue"
   ]
  },
  {
   "cell_type": "markdown",
   "id": "d0250d34-9a25-4368-b50d-14640904920e",
   "metadata": {},
   "source": [
    "## Lab 2 Exercise 4\n",
    "#### Generate an inverted right triangle of height n."
   ]
  },
  {
   "cell_type": "code",
   "execution_count": 40,
   "id": "228566a3-edeb-4d64-8bde-0845e8ab24f5",
   "metadata": {},
   "outputs": [
    {
     "name": "stdout",
     "output_type": "stream",
     "text": [
      "This program displays an inverted right triangle of height n\n"
     ]
    },
    {
     "name": "stdin",
     "output_type": "stream",
     "text": [
      "Do you want to continue? y/n:  ad\n"
     ]
    },
    {
     "name": "stdout",
     "output_type": "stream",
     "text": [
      "Please choose 'y' for yes or 'n' for no.\n"
     ]
    },
    {
     "name": "stdin",
     "output_type": "stream",
     "text": [
      "Do you want to continue? y/n:  323\n"
     ]
    },
    {
     "name": "stdout",
     "output_type": "stream",
     "text": [
      "Please choose 'y' for yes or 'n' for no.\n"
     ]
    },
    {
     "name": "stdin",
     "output_type": "stream",
     "text": [
      "Do you want to continue? y/n:  y\n",
      "Please provide a number:  ssf\n"
     ]
    },
    {
     "name": "stdout",
     "output_type": "stream",
     "text": [
      "Please enter a valid integer.\n"
     ]
    },
    {
     "name": "stdin",
     "output_type": "stream",
     "text": [
      "Do you want to continue? y/n:  y\n",
      "Please provide a number:  7\n"
     ]
    },
    {
     "name": "stdout",
     "output_type": "stream",
     "text": [
      "*******\n",
      "******\n",
      "*****\n",
      "****\n",
      "***\n",
      "**\n",
      "*\n"
     ]
    },
    {
     "name": "stdin",
     "output_type": "stream",
     "text": [
      "Do you want to continue? y/n:  n\n"
     ]
    },
    {
     "name": "stdout",
     "output_type": "stream",
     "text": [
      "Thank you for running this program. Have a good day!\n"
     ]
    }
   ],
   "source": [
    "print(\"This program displays an inverted right triangle of height n\")\n",
    "\n",
    "def print_inverted_right_triangle(irt_height):\n",
    "    for i in range(irt_height, 0, -1):\n",
    "        triangle = '*' * i\n",
    "        print(triangle)\n",
    "\n",
    "while True:\n",
    "    user_d = input(\"Do you want to continue? y/n: \").lower()\n",
    "\n",
    "    if user_d == \"y\":\n",
    "        try:\n",
    "            irt_height = int(input(\"Please provide a number: \"))\n",
    "            print_inverted_right_triangle(irt_height)\n",
    "        except ValueError:\n",
    "            print(\"Please enter a valid integer.\")\n",
    "            continue\n",
    "    elif user_d == \"n\":\n",
    "        print(\"Thank you for running this program. Have a good day!\")\n",
    "        break\n",
    "    else:\n",
    "        print(\"Please choose 'y' for yes or 'n' for no.\")\n",
    "        continue"
   ]
  },
  {
   "cell_type": "markdown",
   "id": "a04085d9-82c2-4fab-baea-205cec3a0395",
   "metadata": {},
   "source": [
    "## Lab 1 Problem 2 - Resubmission\n",
    "Good Day Sir! This is Ronio from BSCpE 2-6, I am writing this together with the Laboratory 2 file. I checked my recent file and my laboratory 1 in number 2 is not included in my submitted file. I appologize for not checking thoroughly my work as our internet connection that time was cut off and the pressure of submission make me confused with my file. Thank you in advance for your consideration."
   ]
  },
  {
   "cell_type": "code",
   "execution_count": 34,
   "id": "6b359c99-65e5-4a6d-a205-8ad86159d7cc",
   "metadata": {},
   "outputs": [
    {
     "name": "stdin",
     "output_type": "stream",
     "text": [
      "Enter the number of strings:  2\n",
      "Enter a string:  Tommorrow\n"
     ]
    },
    {
     "name": "stdout",
     "output_type": "stream",
     "text": [
      "Tw\n"
     ]
    },
    {
     "name": "stdin",
     "output_type": "stream",
     "text": [
      "Enter a string:  Yesterday\n"
     ]
    },
    {
     "name": "stdout",
     "output_type": "stream",
     "text": [
      "Ystrday\n"
     ]
    }
   ],
   "source": [
    "def remove_dup(input_str):\n",
    "    result_str = \"\"\n",
    "    for char in input_str:\n",
    "        if input_str.count(char) == 1:\n",
    "            result_str += char\n",
    "    return result_str\n",
    "\n",
    "num_str = int(input(\"Enter the number of strings: \")) # Input: Number of strings\n",
    "\n",
    "for _ in range(num_str):\n",
    "    input_str = input(\"Enter a string: \")\n",
    "    result_str = remove_dup(input_str)\n",
    "    print(result_str)"
   ]
  }
 ],
 "metadata": {
  "kernelspec": {
   "display_name": "Python 3 (ipykernel)",
   "language": "python",
   "name": "python3"
  },
  "language_info": {
   "codemirror_mode": {
    "name": "ipython",
    "version": 3
   },
   "file_extension": ".py",
   "mimetype": "text/x-python",
   "name": "python",
   "nbconvert_exporter": "python",
   "pygments_lexer": "ipython3",
   "version": "3.11.2"
  }
 },
 "nbformat": 4,
 "nbformat_minor": 5
}
